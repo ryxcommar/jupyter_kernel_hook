{
 "cells": [
  {
   "cell_type": "code",
   "execution_count": 1,
   "id": "47af07ab",
   "metadata": {},
   "outputs": [
    {
     "data": {
      "text/html": [
       "\n",
       "<p>\n",
       "  <b>Hello</b>, <i>world!</i>\n",
       "</p>\n",
       "\n",
       "<p>\n",
       "  Notice how you didn't have to <code>import html_cell_magic</code>\n",
       "  or <code>%load_ext html_cell_magic</code> first? 😊\n",
       "</p>\n"
      ],
      "text/plain": [
       "<IPython.core.display.HTML object>"
      ]
     },
     "metadata": {},
     "output_type": "display_data"
    }
   ],
   "source": [
    "%%html\n",
    "\n",
    "<p>\n",
    "  <b>Hello</b>, <i>world!</i>\n",
    "</p>\n",
    "\n",
    "<p>\n",
    "  Notice how you didn't have to <code>import html_cell_magic</code>\n",
    "  or <code>%load_ext html_cell_magic</code> first? 😊\n",
    "</p>"
   ]
  },
  {
   "cell_type": "code",
   "execution_count": null,
   "id": "e9fe6582",
   "metadata": {},
   "outputs": [],
   "source": []
  }
 ],
 "metadata": {
  "kernelspec": {
   "display_name": "Python 3 (ipykernel)",
   "language": "python",
   "name": "python3"
  },
  "language_info": {
   "codemirror_mode": {
    "name": "ipython",
    "version": 3
   },
   "file_extension": ".py",
   "mimetype": "text/x-python",
   "name": "python",
   "nbconvert_exporter": "python",
   "pygments_lexer": "ipython3",
   "version": "3.8.5"
  }
 },
 "nbformat": 4,
 "nbformat_minor": 5
}
